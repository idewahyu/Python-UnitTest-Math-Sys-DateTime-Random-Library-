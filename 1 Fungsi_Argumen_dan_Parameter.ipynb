{
  "nbformat": 4,
  "nbformat_minor": 0,
  "metadata": {
    "colab": {
      "name": "Fungsi-Argumen dan Parameter.ipynb",
      "provenance": [],
      "collapsed_sections": []
    },
    "kernelspec": {
      "name": "python3",
      "display_name": "Python 3"
    },
    "language_info": {
      "name": "python"
    }
  },
  "cells": [
    {
      "cell_type": "markdown",
      "source": [
        "based on the value to be entered when the function called\n",
        "1. Keyword Arguments\n",
        "*  Arguments are accompanied by a clearly defined identifier or parameter name. It also includes if we input values ​​through a dictionary that are preceded by two ** signs.\n",
        "\n",
        "2. Positional Arguments\n",
        "*  Arguments are other than keyword arguments. If we input an iterable variable, it must be preceded by a sign (*)\n"
      ],
      "metadata": {
        "id": "hclV6bHbS4xg"
      }
    },
    {
      "cell_type": "markdown",
      "source": [
        "#Keyword Arguments"
      ],
      "metadata": {
        "id": "tFulo0oNTmt9"
      }
    },
    {
      "cell_type": "code",
      "execution_count": null,
      "metadata": {
        "id": "MO3jGD2Bjy5p"
      },
      "outputs": [],
      "source": [
        "def jadwal (tgl, bln, thn):\n",
        "    berangkat = \"Jadwal keberangkatan adalah tgl {} bln {} thn {}\". format (tgl, bln, thn)\n",
        "    return berangkat"
      ]
    },
    {
      "cell_type": "markdown",
      "source": [
        "(tgl, bln, thn) called as parameters, jadwal as function, \n",
        "and berangkat as variable"
      ],
      "metadata": {
        "id": "7_6dpoCSTtYe"
      }
    },
    {
      "cell_type": "code",
      "source": [
        "jadwal (tgl=2, bln=\"feb\", thn=2022)"
      ],
      "metadata": {
        "colab": {
          "base_uri": "https://localhost:8080/",
          "height": 35
        },
        "id": "GJXU7fK0k__y",
        "outputId": "e4bbb00d-0ce2-4b49-8c99-1490c281495a"
      },
      "execution_count": null,
      "outputs": [
        {
          "output_type": "execute_result",
          "data": {
            "text/plain": [
              "'Jadwal keberangkatan adalah tgl 2 bln feb thn 2022'"
            ],
            "application/vnd.google.colaboratory.intrinsic+json": {
              "type": "string"
            }
          },
          "metadata": {},
          "execution_count": 12
        }
      ]
    },
    {
      "cell_type": "markdown",
      "source": [
        "input value like (2, \"Feb\", 2022) called as arguments"
      ],
      "metadata": {
        "id": "l84UIi0JT-8Y"
      }
    },
    {
      "cell_type": "code",
      "source": [
        "jadwal (**{'tgl':2, 'bln':\"feb\", 'thn' : 2022})"
      ],
      "metadata": {
        "colab": {
          "base_uri": "https://localhost:8080/",
          "height": 35
        },
        "id": "wdDOMOJ8fgFm",
        "outputId": "a74c96a5-d5c6-4c02-889f-ce79eebeaf59"
      },
      "execution_count": null,
      "outputs": [
        {
          "output_type": "execute_result",
          "data": {
            "text/plain": [
              "'Jadwal keberangkatan adalah tgl 2 bln feb thn 2022'"
            ],
            "application/vnd.google.colaboratory.intrinsic+json": {
              "type": "string"
            }
          },
          "metadata": {},
          "execution_count": 15
        }
      ]
    },
    {
      "cell_type": "markdown",
      "source": [
        "while the sign ** is used as a dictionary marker"
      ],
      "metadata": {
        "id": "QFZDpdN9fmzE"
      }
    },
    {
      "cell_type": "markdown",
      "source": [
        "#Positional Arguments"
      ],
      "metadata": {
        "id": "crtCEeaIUaZ2"
      }
    },
    {
      "cell_type": "code",
      "source": [
        "def jadwal (tgl, bln, thn):\n",
        "  berangkat =  \"Jadwal keberangkatan adalah tgl {} bln {} thn {}\". format (tgl, bln, thn)\n",
        "  return berangkat"
      ],
      "metadata": {
        "id": "wlN4WTfzlfr0"
      },
      "execution_count": null,
      "outputs": []
    },
    {
      "cell_type": "code",
      "source": [
        "jadwal (*(2, 'feb', 2022))"
      ],
      "metadata": {
        "colab": {
          "base_uri": "https://localhost:8080/",
          "height": 35
        },
        "id": "Za5E27UPl0r_",
        "outputId": "f549f25e-2cf7-4f23-a690-1b28e0ded80d"
      },
      "execution_count": null,
      "outputs": [
        {
          "output_type": "execute_result",
          "data": {
            "text/plain": [
              "'Jadwal keberangkatan adalah tgl 2 bln feb thn 2022'"
            ],
            "application/vnd.google.colaboratory.intrinsic+json": {
              "type": "string"
            }
          },
          "metadata": {},
          "execution_count": 6
        }
      ]
    },
    {
      "cell_type": "code",
      "source": [
        "jadwal (**{'tgl':2, 'bln':\"feb\", 'thn' : 2022})"
      ],
      "metadata": {
        "colab": {
          "base_uri": "https://localhost:8080/",
          "height": 35
        },
        "id": "415dqRRgeX_W",
        "outputId": "9fc310e2-e7c8-4c61-da1d-1bef0bf1f443"
      },
      "execution_count": null,
      "outputs": [
        {
          "output_type": "execute_result",
          "data": {
            "text/plain": [
              "'Jadwal keberangkatan adalah tgl 2 bln feb thn 2022'"
            ],
            "application/vnd.google.colaboratory.intrinsic+json": {
              "type": "string"
            }
          },
          "metadata": {},
          "execution_count": 14
        }
      ]
    },
    {
      "cell_type": "markdown",
      "source": [
        "the sign * is used as an iterable marker in python"
      ],
      "metadata": {
        "id": "lsoViCBfW_zp"
      }
    },
    {
      "cell_type": "markdown",
      "source": [
        "# Function Parameter Arrangement"
      ],
      "metadata": {
        "id": "2LZ3kUAZgVb0"
      }
    },
    {
      "cell_type": "markdown",
      "source": [
        "* Positional-or-keyword: write arguments as keyword arguments/positional arguments\n",
        "* positional-only: specifies that specific arguments can only place in certain positions. The method by declaring the primary position followed by the sign /.\n",
        "* keyword-only specify that specific arguments should pass in the form of keyword arguments. The method by declaring one variable positional argument followed by a *\n",
        "* var-positional and var-keyword: specify that there are positional arguments and keyword arguments that you will process. var-positional mark with a prefix * (iterable) and var-keyword mark with a prefix ** (dictionary)\n",
        "*  if there is a dynamic position argument and a dynamic keyword argument, then the order is a positional argument first, then a keyword argument\n",
        "\n",
        "\n",
        "\n",
        "\n",
        "\n",
        "\n",
        "\n",
        "\n",
        "\n",
        "\n"
      ],
      "metadata": {
        "id": "-WwxdMlhkkWu"
      }
    },
    {
      "cell_type": "code",
      "source": [
        "def info (*arg, **kunci_dict):\n",
        "    for i in arg:\n",
        "        print (\"argumen posisi {}\". format (i))\n",
        "    for key, value in kunci_dict.items():\n",
        "        print (\"argumen kata kunci {} : {}\". format (key, value))"
      ],
      "metadata": {
        "id": "GYiXs_OflXlY"
      },
      "execution_count": null,
      "outputs": []
    },
    {
      "cell_type": "code",
      "source": [
        "info(1)"
      ],
      "metadata": {
        "colab": {
          "base_uri": "https://localhost:8080/"
        },
        "id": "VZrwr-8emCdu",
        "outputId": "c1f9625f-dd0f-4df6-97cb-e38bf153efed"
      },
      "execution_count": null,
      "outputs": [
        {
          "output_type": "stream",
          "name": "stdout",
          "text": [
            "argumen posisi 1\n"
          ]
        }
      ]
    },
    {
      "cell_type": "code",
      "source": [
        "info(1, key=2, value=3)"
      ],
      "metadata": {
        "colab": {
          "base_uri": "https://localhost:8080/"
        },
        "id": "jastocvamah3",
        "outputId": "3111a565-7895-4ef8-83e7-0153ad2e7307"
      },
      "execution_count": null,
      "outputs": [
        {
          "output_type": "stream",
          "name": "stdout",
          "text": [
            "argumen posisi 1\n",
            "argumen kata kunci key : 2\n",
            "argumen kata kunci value : 3\n"
          ]
        }
      ]
    },
    {
      "cell_type": "markdown",
      "source": [
        "if we only want to call argument then just call it once\n",
        "\n",
        "but if we want to call dictionary then it must be called twice"
      ],
      "metadata": {
        "id": "-iXstZ4cnIGI"
      }
    },
    {
      "cell_type": "markdown",
      "source": [
        "# Anonymous Function"
      ],
      "metadata": {
        "id": "XxAuu_T6nsQ5"
      }
    },
    {
      "cell_type": "markdown",
      "source": [
        "* not declared like a function in general with the def keyword, but using the lambda keyword\n",
        "* a lambda function can accept any number of arguments but returns only one value of the expression\n",
        "* lambda function cannot load other commands or expressions, for example, to do print\n",
        "* lambda functions are independent, have their namespace, and cannot access any values ​​other than those in parameter lists and global variables"
      ],
      "metadata": {
        "id": "npugLODtqF6q"
      }
    },
    {
      "cell_type": "code",
      "source": [
        "tambah = lambda angka1, angka2: angka1 + angka2  "
      ],
      "metadata": {
        "id": "Ib31bIFaqe5U"
      },
      "execution_count": null,
      "outputs": []
    },
    {
      "cell_type": "code",
      "source": [
        "tambah (6,9)"
      ],
      "metadata": {
        "colab": {
          "base_uri": "https://localhost:8080/"
        },
        "id": "J0qocUtiqwo6",
        "outputId": "f721ec94-b5a2-47fa-9f02-4c64406309ed"
      },
      "execution_count": null,
      "outputs": [
        {
          "output_type": "execute_result",
          "data": {
            "text/plain": [
              "15"
            ]
          },
          "metadata": {},
          "execution_count": 20
        }
      ]
    },
    {
      "cell_type": "code",
      "source": [
        "kali = lambda angka1, angka2: angka1 * angka2  "
      ],
      "metadata": {
        "id": "VPyzAG5Tq4bn"
      },
      "execution_count": null,
      "outputs": []
    },
    {
      "cell_type": "code",
      "source": [
        "kali(5,5)"
      ],
      "metadata": {
        "colab": {
          "base_uri": "https://localhost:8080/"
        },
        "id": "ktZ-q4erq-ub",
        "outputId": "e1d3bd1d-5d4c-42a4-c937-3a3b350d6d66"
      },
      "execution_count": null,
      "outputs": [
        {
          "output_type": "execute_result",
          "data": {
            "text/plain": [
              "25"
            ]
          },
          "metadata": {},
          "execution_count": 22
        }
      ]
    }
  ]
}