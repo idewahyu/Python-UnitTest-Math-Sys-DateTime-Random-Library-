{
  "nbformat": 4,
  "nbformat_minor": 0,
  "metadata": {
    "colab": {
      "name": "Pengenalan Pemrograman Berorientasi Objek (OOP) dengan Python-Class, Objek, dan Method.ipynb",
      "provenance": [],
      "collapsed_sections": []
    },
    "kernelspec": {
      "name": "python3",
      "display_name": "Python 3"
    },
    "language_info": {
      "name": "python"
    }
  },
  "cells": [
    {
      "cell_type": "markdown",
      "source": [
        "#Class"
      ],
      "metadata": {
        "id": "A0RDWHtpr04H"
      }
    },
    {
      "cell_type": "markdown",
      "source": [
        "A Class is like a \"blueprint\" for creating objects. We can think of a class as a sketch (prototype) of a house."
      ],
      "metadata": {
        "id": "gA0DR_sVr37f"
      }
    },
    {
      "cell_type": "markdown",
      "source": [
        "# Objects"
      ],
      "metadata": {
        "id": "RKdB1JU-sTh7"
      }
    },
    {
      "cell_type": "markdown",
      "source": [
        "An object is simply a collection of data (variables) and methods (functions) that act on those data. "
      ],
      "metadata": {
        "id": "o_IgtwZksi7L"
      }
    },
    {
      "cell_type": "markdown",
      "source": [
        "# Method "
      ],
      "metadata": {
        "id": "cIY1w2rJs_bq"
      }
    },
    {
      "cell_type": "markdown",
      "source": [
        "A method is a function that “belongs to” an object. (In Python, the term method is not unique to class instances: other object types can have methods as well. For example, list objects have methods called append, insert, remove, sort, and so on."
      ],
      "metadata": {
        "id": "NigfZRnMtCkM"
      }
    },
    {
      "cell_type": "markdown",
      "source": [
        "# Object Method"
      ],
      "metadata": {
        "id": "ENwfklhttYv6"
      }
    },
    {
      "cell_type": "markdown",
      "source": [
        "In general, this method is a special function that \"belongs\" to an object that is the result of the installation of the class"
      ],
      "metadata": {
        "id": "D4WldQWPe2xm"
      }
    },
    {
      "cell_type": "code",
      "execution_count": 11,
      "metadata": {
        "id": "ewZDb0cqrXsg"
      },
      "outputs": [],
      "source": [
        "class Kalkulator:\n",
        "\n",
        "    def __init__(self, angka1, angka2):\n",
        "          self.angka1 = angka1\n",
        "          self.angka2 = angka2\n",
        "\n",
        "    def tambah(self):\n",
        "          self.plus= self.angka1 + self.angka2\n",
        "          return self.plus"
      ]
    },
    {
      "cell_type": "code",
      "source": [
        "k = Kalkulator (\"angka1\", \"angka2\")"
      ],
      "metadata": {
        "id": "5_SuxO4sgXuC"
      },
      "execution_count": 2,
      "outputs": []
    },
    {
      "cell_type": "code",
      "source": [
        "k = Kalkulator (1,2)"
      ],
      "metadata": {
        "id": "Qkmkso8ogffp"
      },
      "execution_count": 13,
      "outputs": []
    },
    {
      "cell_type": "code",
      "source": [
        "k.tambah()"
      ],
      "metadata": {
        "colab": {
          "base_uri": "https://localhost:8080/"
        },
        "id": "P-fm-CmmgmQz",
        "outputId": "81fb937f-41a1-4a60-f6d4-5bda9330baea"
      },
      "execution_count": 14,
      "outputs": [
        {
          "output_type": "execute_result",
          "data": {
            "text/plain": [
              "3"
            ]
          },
          "metadata": {},
          "execution_count": 14
        }
      ]
    },
    {
      "cell_type": "markdown",
      "source": [
        "we can use the alternative way"
      ],
      "metadata": {
        "id": "g2xJyCTehhx_"
      }
    },
    {
      "cell_type": "code",
      "source": [
        "Kalkulator.tambah(k)"
      ],
      "metadata": {
        "colab": {
          "base_uri": "https://localhost:8080/"
        },
        "id": "6nqwexyWhq7w",
        "outputId": "1d3b2e83-5f26-47b7-dbd9-475dd7719ea2"
      },
      "execution_count": 16,
      "outputs": [
        {
          "output_type": "execute_result",
          "data": {
            "text/plain": [
              "3"
            ]
          },
          "metadata": {},
          "execution_count": 16
        }
      ]
    },
    {
      "cell_type": "markdown",
      "source": [
        "__init__ (double underscore) is a special function. \n",
        "\n",
        "The feature of the method object is that we have to assign a class to a single variable"
      ],
      "metadata": {
        "id": "s8leZ1gRfTsR"
      }
    },
    {
      "cell_type": "markdown",
      "source": [
        "#Class Method"
      ],
      "metadata": {
        "id": "MmhDRx6djAnI"
      }
    },
    {
      "cell_type": "markdown",
      "source": [
        "A class method is a method which is bound to the class and not the object of the class. They have the access to the state of the class as it takes a class parameter that points to the class and not the object instance. It can modify a class state that would apply across all the instances of the class."
      ],
      "metadata": {
        "id": "5ooBDTF3kC4k"
      }
    },
    {
      "cell_type": "code",
      "source": [
        "class Kalkulator:\n",
        "\n",
        "    def __init__(self, angka1, angka2):\n",
        "          self.angka1 = angka1\n",
        "          self.angka2 = angka2\n",
        "\n",
        "    @classmethod\n",
        "    def tambah_angka(cls, angka1, angka2):\n",
        "          cls.plus_angka= angka1 + angka2\n",
        "          return cls.plus_angka"
      ],
      "metadata": {
        "id": "n1Ih-ER4kS5t"
      },
      "execution_count": 17,
      "outputs": []
    },
    {
      "cell_type": "code",
      "source": [
        "k = Kalkulator (\"angka1\", \"angka2\")"
      ],
      "metadata": {
        "id": "HD7H6rAokspH"
      },
      "execution_count": 18,
      "outputs": []
    },
    {
      "cell_type": "code",
      "source": [
        "k.tambah_angka(1,2)"
      ],
      "metadata": {
        "colab": {
          "base_uri": "https://localhost:8080/"
        },
        "id": "jF6kQc0OkziW",
        "outputId": "b6d710fa-1ef6-4c5f-a506-dc794bf15f92"
      },
      "execution_count": 20,
      "outputs": [
        {
          "output_type": "execute_result",
          "data": {
            "text/plain": [
              "3"
            ]
          },
          "metadata": {},
          "execution_count": 20
        }
      ]
    },
    {
      "cell_type": "markdown",
      "source": [
        "the way to call a class method is to directly call its function"
      ],
      "metadata": {
        "id": "6NbvXNf-lDd4"
      }
    },
    {
      "cell_type": "markdown",
      "source": [
        "#Static Method"
      ],
      "metadata": {
        "id": "OBn9nZFilgcB"
      }
    },
    {
      "cell_type": "markdown",
      "source": [
        "A static method is also a method that is bound to the class and not the object \n",
        "of the class and can’t access or modify the class state. It is present in a class because it makes sense for the method to be present in class."
      ],
      "metadata": {
        "id": "wyGhPQ6ulsAd"
      }
    },
    {
      "cell_type": "markdown",
      "source": [
        "The way to call a static method is to call it directly from the defined class or through an object"
      ],
      "metadata": {
        "id": "TQdQLs1_mf_i"
      }
    },
    {
      "cell_type": "code",
      "source": [
        "class Kalkulator:\n",
        "\n",
        "    def __init__(self, angka1, angka2):\n",
        "          self.angka1 = angka1\n",
        "          self.angka2 = angka2\n",
        "\n",
        "    @staticmethod\n",
        "    def penjumlahan(angka1, angka2):\n",
        "          jumlah = angka1 + angka2\n",
        "          return jumlah"
      ],
      "metadata": {
        "id": "EMvSnI6Emn8i"
      },
      "execution_count": 26,
      "outputs": []
    },
    {
      "cell_type": "code",
      "source": [
        "k = Kalkulator.penjumlahan(1,2)"
      ],
      "metadata": {
        "id": "PPVkgcW4m8LX"
      },
      "execution_count": 27,
      "outputs": []
    },
    {
      "cell_type": "code",
      "source": [
        "print(k)"
      ],
      "metadata": {
        "colab": {
          "base_uri": "https://localhost:8080/"
        },
        "id": "FbqBbsjknbn3",
        "outputId": "7170e758-ad96-4270-e045-3fc9a99572b4"
      },
      "execution_count": 28,
      "outputs": [
        {
          "output_type": "stream",
          "name": "stdout",
          "text": [
            "3\n"
          ]
        }
      ]
    },
    {
      "cell_type": "markdown",
      "source": [
        "**So, we can conclude that what differs from the three is the way of summoning**"
      ],
      "metadata": {
        "id": "88PZLY7hngbg"
      }
    }
  ]
}