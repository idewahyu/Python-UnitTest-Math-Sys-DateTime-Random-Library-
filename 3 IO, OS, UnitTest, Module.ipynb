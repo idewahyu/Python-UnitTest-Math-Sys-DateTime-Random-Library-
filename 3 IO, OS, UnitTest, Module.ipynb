{
  "nbformat": 4,
  "nbformat_minor": 0,
  "metadata": {
    "colab": {
      "name": "IO,OS,UnitTest Module .ipynb",
      "provenance": []
    },
    "kernelspec": {
      "name": "python3",
      "display_name": "Python 3"
    },
    "language_info": {
      "name": "python"
    }
  },
  "cells": [
    {
      "cell_type": "code",
      "execution_count": 1,
      "metadata": {
        "colab": {
          "base_uri": "https://localhost:8080/"
        },
        "id": "t1iAtcWFxcHe",
        "outputId": "decafd82-71ad-42e8-bfaa-b3b9c124665e"
      },
      "outputs": [
        {
          "output_type": "stream",
          "name": "stdout",
          "text": [
            "Nama: Devanaga Saputra\n",
            "Prodi: Matematika\n",
            "Kelas: B\n",
            "NIM: 1908541081\n"
          ]
        }
      ],
      "source": [
        "bio = open(\"Biodata.txt\", \"r\")\n",
        "print(bio.read())"
      ]
    },
    {
      "cell_type": "code",
      "source": [
        "print(bio.readline())"
      ],
      "metadata": {
        "colab": {
          "base_uri": "https://localhost:8080/"
        },
        "id": "UAvolbvE2FO6",
        "outputId": "9221bf34-621d-4085-8919-54c2e9e63a55"
      },
      "execution_count": 10,
      "outputs": [
        {
          "output_type": "stream",
          "name": "stdout",
          "text": [
            "\n"
          ]
        }
      ]
    },
    {
      "cell_type": "code",
      "source": [
        "import io"
      ],
      "metadata": {
        "id": "cIKUDma60WP8"
      },
      "execution_count": 8,
      "outputs": []
    },
    {
      "cell_type": "code",
      "source": [
        "with open(\"Biodata.txt\",\"w\") as Write:\n",
        "  EditLog=input(\"Nama : \")\n",
        "  Write.write(EditLog)"
      ],
      "metadata": {
        "colab": {
          "base_uri": "https://localhost:8080/"
        },
        "id": "6zTZrzSt1M8h",
        "outputId": "9fa666a7-bd1a-45ab-eb88-7d683884afd9"
      },
      "execution_count": 2,
      "outputs": [
        {
          "name": "stdout",
          "output_type": "stream",
          "text": [
            "Nama : Deva\n"
          ]
        }
      ]
    },
    {
      "cell_type": "code",
      "source": [
        "with open(\"Hobby.txt\",\"w\") as Hobby:\n",
        "  Hobby1=input(\"Olahraga: \\n\")\n",
        "  Hobby2=input(\"Manga: \\n\")\n",
        "  Hobby3=input(\"Anime: \\n\")\n",
        "  Hobby.write(\"Olahraga: {}\".format(Hobby1))\n",
        "  Hobby.write(\"\\nManga: {}\".format(Hobby2))\n",
        "  Hobby.write(\"\\nAnime: {}\".format(Hobby3))"
      ],
      "metadata": {
        "colab": {
          "base_uri": "https://localhost:8080/"
        },
        "id": "u_P0x34o1tjD",
        "outputId": "5588d0dc-581f-4157-c663-aa91a693d377"
      },
      "execution_count": 3,
      "outputs": [
        {
          "name": "stdout",
          "output_type": "stream",
          "text": [
            "Olahraga: \n",
            "Footbal\n",
            "Manga: \n",
            "Manga\n",
            "Anime: \n",
            "Anime\n"
          ]
        }
      ]
    },
    {
      "cell_type": "code",
      "source": [
        "import os\n",
        "\n",
        "if os.path.isfile(\"Future.txt\"):\n",
        "  writing= open(\"Future.txt\",\"a\")\n",
        "else:\n",
        "  writing= open(\"Future.txt\",\"w\")\n",
        "\n",
        "EditFuture=int(input(\"Want to Add Your Goal ?? \\n 1. Yes \\n 2. No\\n Your Answer : \"))\n",
        "if EditFuture==1:\n",
        "  plusFuture=input(\"Add Your Future : \")\n",
        "  writing.write(\"\\n {}\".format(plusFuture))\n",
        "  writing.close()\n",
        "elif EditFuture==2:\n",
        "  writing.close()\n"
      ],
      "metadata": {
        "colab": {
          "base_uri": "https://localhost:8080/"
        },
        "id": "huOjTMvL3Psq",
        "outputId": "32c6924e-98da-4ab6-e76a-7fd1697cdb9c"
      },
      "execution_count": 4,
      "outputs": [
        {
          "name": "stdout",
          "output_type": "stream",
          "text": [
            "Want to Add Your Goal ?? \n",
            " 1. Yes \n",
            " 2. No\n",
            " Your Answer : 1\n",
            "Add Your Future : Graduation\n"
          ]
        }
      ]
    },
    {
      "cell_type": "code",
      "source": [
        "import os"
      ],
      "metadata": {
        "id": "at9iGmRt7D6n"
      },
      "execution_count": 7,
      "outputs": []
    },
    {
      "cell_type": "code",
      "source": [
        "if os.path.isfile(\"Biodata.txt\"):\n",
        "  os.remove(\"Biodata.txt\")\n",
        "  print(\"Data Has Been Defeated\")\n",
        "else:\n",
        "  print(\"No Data To Defeated\")"
      ],
      "metadata": {
        "colab": {
          "base_uri": "https://localhost:8080/"
        },
        "id": "HowR0pqmBBpw",
        "outputId": "6415a1b5-806e-4b21-98d7-baa1924d678f"
      },
      "execution_count": null,
      "outputs": [
        {
          "output_type": "stream",
          "name": "stdout",
          "text": [
            "Data Has Been Defeated\n"
          ]
        }
      ]
    },
    {
      "cell_type": "code",
      "source": [
        "import unittest\n",
        "a=3\n",
        "b=5\n",
        "class Test__53a_UnitTest(unittest.TestCase):\n",
        "  def test_equal(self):\n",
        "    self.assertEqual(3+4,a+b)\n",
        "  def test_greater(self):\n",
        "    self.assertTrue(a+b>3+4)\n",
        "if __name__==\"__main__\":\n",
        "  unittest.main()"
      ],
      "metadata": {
        "id": "8Eozj7soBYqL",
        "colab": {
          "base_uri": "https://localhost:8080/",
          "height": 341
        },
        "outputId": "af65ec35-9f37-40a0-d1c4-b6e1084c5da6"
      },
      "execution_count": 11,
      "outputs": [
        {
          "output_type": "stream",
          "name": "stderr",
          "text": [
            "E\n",
            "======================================================================\n",
            "ERROR: /root/ (unittest.loader._FailedTest)\n",
            "----------------------------------------------------------------------\n",
            "AttributeError: module '__main__' has no attribute '/root/'\n",
            "\n",
            "----------------------------------------------------------------------\n",
            "Ran 1 test in 0.003s\n",
            "\n",
            "FAILED (errors=1)\n"
          ]
        },
        {
          "output_type": "error",
          "ename": "SystemExit",
          "evalue": "ignored",
          "traceback": [
            "An exception has occurred, use %tb to see the full traceback.\n",
            "\u001b[0;31mSystemExit\u001b[0m\u001b[0;31m:\u001b[0m True\n"
          ]
        },
        {
          "output_type": "stream",
          "name": "stderr",
          "text": [
            "/usr/local/lib/python3.7/dist-packages/IPython/core/interactiveshell.py:2890: UserWarning: To exit: use 'exit', 'quit', or Ctrl-D.\n",
            "  warn(\"To exit: use 'exit', 'quit', or Ctrl-D.\", stacklevel=1)\n"
          ]
        }
      ]
    }
  ]
}